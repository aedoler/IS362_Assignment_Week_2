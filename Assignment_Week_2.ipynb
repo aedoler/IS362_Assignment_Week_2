{
 "cells": [
  {
   "cell_type": "code",
   "execution_count": 25,
   "metadata": {
    "collapsed": false
   },
   "outputs": [
    {
     "name": "stdout",
     "output_type": "stream",
     "text": [
      "[0, 5, 10, 15, 20, 25, 30, 35, 40, 45, 50, 55, 60, 65, 70, 75, 80, 85, 90, 95]\n"
     ]
    }
   ],
   "source": [
    "basicListComp = [x for x in range(100) if x%5 == 0]\n",
    "print(basicListComp)"
   ]
  },
  {
   "cell_type": "code",
   "execution_count": 29,
   "metadata": {
    "collapsed": false
   },
   "outputs": [
    {
     "data": {
      "text/plain": [
       "[(0, 'Chicago'),\n",
       " (1, 'Houston'),\n",
       " (2, 'Los Angeles'),\n",
       " (3, 'Miami'),\n",
       " (4, 'New York'),\n",
       " (5, 'San Francisco'),\n",
       " (6, 'Seattle')]"
      ]
     },
     "execution_count": 29,
     "metadata": {},
     "output_type": "execute_result"
    }
   ],
   "source": [
    "cityList = ['New York', 'Chicago', 'Miami', 'San Francisco', 'Los Angeles', 'Seattle', 'Houston']\n",
    "def getListComp(myList):\n",
    "    myList = sorted(myList)\n",
    "    myList = [(num, city) for num, city in enumerate(myList)]\n",
    "    return myList\n",
    "\n",
    "getListComp(cityList)"
   ]
  },
  {
   "cell_type": "code",
   "execution_count": 33,
   "metadata": {
    "collapsed": false
   },
   "outputs": [
    {
     "data": {
      "text/plain": [
       "{0: 'Chicago',\n",
       " 1: 'Houston',\n",
       " 2: 'Los Angeles',\n",
       " 3: 'Miami',\n",
       " 4: 'New York',\n",
       " 5: 'San Francisco',\n",
       " 6: 'Seattle'}"
      ]
     },
     "execution_count": 33,
     "metadata": {},
     "output_type": "execute_result"
    }
   ],
   "source": [
    "cityList = ['New York', 'Chicago', 'Miami', 'San Francisco', 'Los Angeles', 'Seattle', 'Houston']\n",
    "def getDictComp(myDict):\n",
    "    myDict = sorted(myDict)\n",
    "    myDict = {num:city for num, city in enumerate(myDict)}\n",
    "    return myDict\n",
    "getDictComp(cityList)"
   ]
  },
  {
   "cell_type": "code",
   "execution_count": null,
   "metadata": {
    "collapsed": false
   },
   "outputs": [],
   "source": []
  },
  {
   "cell_type": "code",
   "execution_count": null,
   "metadata": {
    "collapsed": true
   },
   "outputs": [],
   "source": []
  }
 ],
 "metadata": {
  "kernelspec": {
   "display_name": "Python 3",
   "language": "python",
   "name": "python3"
  },
  "language_info": {
   "codemirror_mode": {
    "name": "ipython",
    "version": 3
   },
   "file_extension": ".py",
   "mimetype": "text/x-python",
   "name": "python",
   "nbconvert_exporter": "python",
   "pygments_lexer": "ipython3",
   "version": "3.5.2"
  }
 },
 "nbformat": 4,
 "nbformat_minor": 2
}
