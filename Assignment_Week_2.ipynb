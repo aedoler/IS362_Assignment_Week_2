{
 "cells": [
  {
   "cell_type": "markdown",
   "metadata": {},
   "source": [
    "## List and Dictionary Comprehensions in Python 3\n",
    "\n",
    "Comprehensions are a feature in Python which allow you to create lists or dictionaries, even complicated ones, in just one line of code. Even basic comprehensions use less code than would be necessary if a for loop were used to produce the same output.\n",
    "\n",
    "Here is an example of a basisc list comprehension that generates a list of integers between 0 and 100 that are divisible by 5."
   ]
  },
  {
   "cell_type": "code",
   "execution_count": 37,
   "metadata": {
    "collapsed": false
   },
   "outputs": [
    {
     "name": "stdout",
     "output_type": "stream",
     "text": [
      "[0, 5, 10, 15, 20, 25, 30, 35, 40, 45, 50, 55, 60, 65, 70, 75, 80, 85, 90, 95]\n"
     ]
    }
   ],
   "source": [
    "basicListComp = [x for x in range(100) if x%5 == 0]\n",
    "print(basicListComp)"
   ]
  },
  {
   "cell_type": "markdown",
   "metadata": {},
   "source": [
    "Comprehensions, like loops, iterate over a given object or objects, which is specified after the \"in\". The list comprehension can iterate over this list and perfrom some sort of logic. The below list comprehension sorts the list, cityList in alphabetical order, assigns it a number, and also includes the lengh the city's name."
   ]
  },
  {
   "cell_type": "code",
   "execution_count": 48,
   "metadata": {
    "collapsed": false
   },
   "outputs": [
    {
     "data": {
      "text/plain": [
       "[(0, 'Chicago', 7),\n",
       " (1, 'Houston', 7),\n",
       " (2, 'Los Angeles', 11),\n",
       " (3, 'Miami', 5),\n",
       " (4, 'New York', 8),\n",
       " (5, 'San Francisco', 13),\n",
       " (6, 'Seattle', 7)]"
      ]
     },
     "execution_count": 48,
     "metadata": {},
     "output_type": "execute_result"
    }
   ],
   "source": [
    "cityList = ['New York', 'Chicago', 'Miami', 'San Francisco', 'Los Angeles', 'Seattle', 'Houston']\n",
    "def getListComp(myList):\n",
    "    #myList = sorted(myList)\n",
    "    myList = [(num, city, len(city)) for num, city in enumerate(sorted(myList))]\n",
    "    return myList\n",
    "\n",
    "getListComp(cityList)"
   ]
  },
  {
   "cell_type": "markdown",
   "metadata": {},
   "source": [
    "Disctionary comprehensions are similar to list comprehensions; they just have a slightly different syntax, which includes the \"{}\" container and the \":\" to separate the generated dictionary into keys and values."
   ]
  },
  {
   "cell_type": "code",
   "execution_count": 50,
   "metadata": {
    "collapsed": false
   },
   "outputs": [
    {
     "data": {
      "text/plain": [
       "{0: 'Chicago',\n",
       " 1: 'Houston',\n",
       " 2: 'Los Angeles',\n",
       " 3: 'Miami',\n",
       " 4: 'New York',\n",
       " 5: 'San Francisco',\n",
       " 6: 'Seattle'}"
      ]
     },
     "execution_count": 50,
     "metadata": {},
     "output_type": "execute_result"
    }
   ],
   "source": [
    "cityList = ['New York', 'Chicago', 'Miami', 'San Francisco', 'Los Angeles', 'Seattle', 'Houston']\n",
    "def getDictComp(myDict):\n",
    "    myDict = {num:city for num, city in enumerate(sorted(myDict))}\n",
    "    return myDict\n",
    "getDictComp(cityList)"
   ]
  },
  {
   "cell_type": "code",
   "execution_count": null,
   "metadata": {
    "collapsed": true
   },
   "outputs": [],
   "source": []
  }
 ],
 "metadata": {
  "kernelspec": {
   "display_name": "Python 3",
   "language": "python",
   "name": "python3"
  },
  "language_info": {
   "codemirror_mode": {
    "name": "ipython",
    "version": 3
   },
   "file_extension": ".py",
   "mimetype": "text/x-python",
   "name": "python",
   "nbconvert_exporter": "python",
   "pygments_lexer": "ipython3",
   "version": "3.5.2"
  }
 },
 "nbformat": 4,
 "nbformat_minor": 2
}
